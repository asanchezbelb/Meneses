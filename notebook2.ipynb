{
 "cells": [
  {
   "cell_type": "code",
   "execution_count": null,
   "metadata": {},
   "outputs": [],
   "source": [
    "import pandas as pd\n",
    "\n",
    "# Cargar los datos\n",
    "df = pd.read_csv('data/interacciones.csv')\n",
    "\n",
    "# Mostrar las primeras filas para tener una vista general\n",
    "print(df.head())\n",
    "print(df.info())\n",
    "\n",
    "# Limpieza previa\n",
    "# Eliminamos columnas innecesarias que no vamos a usar para el análisis\n",
    "df.drop(columns=['IND_LAST', 'METADATA_FILENAME', 'METADATA_FILE_LAST_MODIFIED', 'META_TS', 'TS_CARGA', 'TS_PROCESSAMENT'], inplace=True)\n",
    "\n",
    "# Verificar los valores nulos\n",
    "print(df.isnull().sum())\n",
    "\n",
    "# Rellenar los valores nulos con 0 (en este caso tiene sentido en las columnas numéricas)\n",
    "df.fillna(0, inplace=True)\n",
    "\n",
    "# Convertimos las columnas a los tipos correctos\n",
    "df['USER_ID'] = df['USER_ID'].astype(int)\n",
    "df['DISCUSSION_ENTRY_ID'] = df['DISCUSSION_ENTRY_ID'].astype(int)\n",
    "df['RATING'] = df['RATING'].astype(int)\n",
    "df['FORCED_READ_STATE'] = df['FORCED_READ_STATE'].astype(bool)\n",
    "\n",
    "# Verificar los datos después de la limpieza\n",
    "print(df.head())\n"
   ]
  },
  {
   "cell_type": "code",
   "execution_count": null,
   "metadata": {},
   "outputs": [],
   "source": [
    "import networkx as nx\n",
    "import matplotlib.pyplot as plt\n",
    "\n",
    "# Crear el grafo\n",
    "G = nx.DiGraph()\n",
    "\n",
    "# Añadir nodos y aristas\n",
    "for _, row in df.iterrows():\n",
    "    user_from = row['USER_ID']\n",
    "    discussion_id = row['DISCUSSION_ENTRY_ID']\n",
    "    weight = row['RATING']  # Peso de la arista es la calificación (RATING)\n",
    "    \n",
    "    # Añadir los nodos\n",
    "    G.add_node(user_from)\n",
    "    G.add_node(discussion_id)\n",
    "    \n",
    "    # Añadir la arista\n",
    "    G.add_edge(user_from, discussion_id, weight=weight)\n",
    "\n",
    "# Imprimir el número de nodos y aristas en el grafo\n",
    "print(f\"Nodos: {G.number_of_nodes()}, Aristas: {G.number_of_edges()}\")\n"
   ]
  },
  {
   "cell_type": "code",
   "execution_count": null,
   "metadata": {},
   "outputs": [],
   "source": [
    "# Graficar el grafo\n",
    "plt.figure(figsize=(15, 15))\n",
    "pos = nx.spring_layout(G, k=0.3)  # Establecer disposición de los nodos\n",
    "nx.draw(G, pos, with_labels=True, node_size=700, node_color='skyblue', font_size=5, edge_color='yellow')\n",
    "plt.title(\"Grafo de Interacciones\")\n",
    "plt.show()\n"
   ]
  },
  {
   "cell_type": "code",
   "execution_count": null,
   "metadata": {},
   "outputs": [],
   "source": [
    "# Grado de Centralidad\n",
    "degree_centrality = nx.degree_centrality(G)\n",
    "print(\"\\nTop 10 usuarios por Grado de Centralidad:\")\n",
    "print(sorted(degree_centrality.items(), key=lambda x: x[1], reverse=True)[:10])\n",
    "\n",
    "# Centralidad de Intermediación\n",
    "betweenness_centrality = nx.betweenness_centrality(G)\n",
    "print(\"\\nTop 10 usuarios por Intermediación:\")\n",
    "print(sorted(betweenness_centrality.items(), key=lambda x: x[1], reverse=True)[:10])\n",
    "\n",
    "# Centralidad de Cercanía\n",
    "closeness_centrality = nx.closeness_centrality(G)\n",
    "print(\"\\nTop 10 usuarios por Cercanía:\")\n",
    "print(sorted(closeness_centrality.items(), key=lambda x: x[1], reverse=True)[:10])\n"
   ]
  },
  {
   "cell_type": "code",
   "execution_count": null,
   "metadata": {},
   "outputs": [],
   "source": [
    "import plotly.express as px\n",
    "import pandas as pd\n",
    "import plotly.io as pio\n",
    "pio.renderers.default = 'browser'\n",
    "\n",
    "# Crear un DataFrame con las métricas\n",
    "centrality_df = pd.DataFrame({\n",
    "    'User': list(degree_centrality.keys()),\n",
    "    'DegreeCentrality': list(degree_centrality.values()),\n",
    "    'Betweenness': list(betweenness_centrality.values()),\n",
    "    'Closeness': list(closeness_centrality.values())\n",
    "})\n",
    "\n",
    "# Graficar el Top 10 de usuarios por Grado de Centralidad\n",
    "fig = px.bar(centrality_df.sort_values(by='DegreeCentrality', ascending=False).head(10), \n",
    "             x='User', y='DegreeCentrality',\n",
    "             title=\"Top 10 Usuarios por Grado de Centralidad\",\n",
    "             labels={'DegreeCentrality': 'Centralidad de Grado', 'User': 'Usuario'},\n",
    "             color='DegreeCentrality')\n",
    "fig.show()\n"
   ]
  },
  {
   "cell_type": "code",
   "execution_count": null,
   "metadata": {},
   "outputs": [],
   "source": []
  }
 ],
 "metadata": {
  "kernelspec": {
   "display_name": "Python 3",
   "language": "python",
   "name": "python3"
  },
  "language_info": {
   "name": "python",
   "version": "3.8.19"
  }
 },
 "nbformat": 4,
 "nbformat_minor": 2
}
